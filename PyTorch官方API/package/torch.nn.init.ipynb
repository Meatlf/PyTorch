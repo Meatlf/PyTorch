{
 "cells": [
  {
   "cell_type": "markdown",
   "metadata": {},
   "source": [
    "# torch.nn.init\n",
    "**小结**:`torch.nn.init`的功能是进行参数初始化"
   ]
  },
  {
   "cell_type": "code",
   "execution_count": 1,
   "metadata": {},
   "outputs": [],
   "source": [
    "import torch\n",
    "import torch.nn as nn"
   ]
  },
  {
   "cell_type": "code",
   "execution_count": 2,
   "metadata": {},
   "outputs": [
    {
     "name": "stdout",
     "output_type": "stream",
     "text": [
      "tensor([[2.7578, 2.6735, 2.2860, 2.7246, 2.7137],\n",
      "        [2.8028, 2.5002, 2.2517, 2.0424, 2.9130],\n",
      "        [2.5490, 2.9969, 2.4518, 2.2212, 2.6591]])\n"
     ]
    }
   ],
   "source": [
    "# 均匀分布U(a,b)中生成值,填充输入的张量\n",
    "w = torch.Tensor(3, 5)\n",
    "print(nn.init.uniform_(w, a = 2, b = 3))"
   ]
  },
  {
   "cell_type": "code",
   "execution_count": 3,
   "metadata": {},
   "outputs": [
    {
     "name": "stdout",
     "output_type": "stream",
     "text": [
      "tensor([[10.0002, 10.0086, 10.0133,  9.9989, 10.0086, 10.0026,  9.9900,  9.9964],\n",
      "        [10.0016, 10.0071, 10.0048,  9.9846,  9.9953,  9.9965, 10.0010,  9.9813],\n",
      "        [10.0038,  9.9989, 10.0020, 10.0125,  9.9940, 10.0095, 10.0085,  9.9998],\n",
      "        [10.0005, 10.0057,  9.9983,  9.9937,  9.9923,  9.9853, 10.0041,  9.9986],\n",
      "        [10.0017,  9.9938, 10.0059,  9.9988,  9.9866,  9.9975, 10.0042,  9.9950],\n",
      "        [ 9.9780,  9.9949,  9.9879, 10.0105, 10.0011,  9.9969, 10.0119, 10.0232]])\n"
     ]
    }
   ],
   "source": [
    "# 正态分布\n",
    "w = torch.Tensor(6,8)\n",
    "print(nn.init.normal_(w, mean = 10, std = 0.01))"
   ]
  },
  {
   "cell_type": "code",
   "execution_count": 4,
   "metadata": {},
   "outputs": [
    {
     "name": "stdout",
     "output_type": "stream",
     "text": [
      "tensor([[6., 6., 6., 6., 6., 6., 6., 6.],\n",
      "        [6., 6., 6., 6., 6., 6., 6., 6.],\n",
      "        [6., 6., 6., 6., 6., 6., 6., 6.],\n",
      "        [6., 6., 6., 6., 6., 6., 6., 6.],\n",
      "        [6., 6., 6., 6., 6., 6., 6., 6.],\n",
      "        [6., 6., 6., 6., 6., 6., 6., 6.],\n",
      "        [6., 6., 6., 6., 6., 6., 6., 6.],\n",
      "        [6., 6., 6., 6., 6., 6., 6., 6.]])\n"
     ]
    }
   ],
   "source": [
    "# 常量\n",
    "w = torch.Tensor(8,8)\n",
    "print(nn.init.constant_(w, val = 6))"
   ]
  },
  {
   "cell_type": "code",
   "execution_count": null,
   "metadata": {},
   "outputs": [],
   "source": []
  }
 ],
 "metadata": {
  "kernelspec": {
   "display_name": "Python 3",
   "language": "python",
   "name": "python3"
  },
  "language_info": {
   "codemirror_mode": {
    "name": "ipython",
    "version": 3
   },
   "file_extension": ".py",
   "mimetype": "text/x-python",
   "name": "python",
   "nbconvert_exporter": "python",
   "pygments_lexer": "ipython3",
   "version": "3.7.4"
  }
 },
 "nbformat": 4,
 "nbformat_minor": 2
}
