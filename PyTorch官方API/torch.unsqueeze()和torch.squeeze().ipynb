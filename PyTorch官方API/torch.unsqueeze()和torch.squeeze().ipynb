{
 "cells": [
  {
   "cell_type": "markdown",
   "metadata": {},
   "source": [
    "# torch.unsqueeze() 和 torch.squeeze()\n",
    "**小结**：这两个PyTorch API是为了进行维度的解压和压缩。\n",
    "## 参考资料\n",
    "[1][torch.unsqueeze() 和 torch.squeeze()](https://zhuanlan.zhihu.com/p/86763381)"
   ]
  },
  {
   "cell_type": "code",
   "execution_count": 1,
   "metadata": {},
   "outputs": [
    {
     "name": "stdout",
     "output_type": "stream",
     "text": [
      "--------------------------------------------------\n",
      "tensor([1., 2., 3., 4.])\n",
      "torch.Size([4])\n",
      "1\n",
      "[1. 2. 3. 4.]\n"
     ]
    }
   ],
   "source": [
    "import torch\n",
    "\n",
    "x = torch.Tensor([1, 2, 3, 4])  # torch.Tensor是默认的tensor类型（torch.FlaotTensor）的简称。\n",
    "\n",
    "print('-' * 50)\n",
    "print(x)  # tensor([1., 2., 3., 4.])\n",
    "print(x.size())  # torch.Size([4])\n",
    "print(x.dim())  # 1\n",
    "print(x.numpy())  # [1. 2. 3. 4.]"
   ]
  },
  {
   "cell_type": "markdown",
   "metadata": {},
   "source": [
    "Q：如何理解`torch.unsqueeze()`的行列扩展模式？  \n",
    "A：关键是理解下图。  \n",
    "原因：方便操作\n",
    "0(-2)-行扩展\n",
    "1(-1)-列扩展\n",
    "正向：我们在0，1位置上扩展\n",
    "逆向：我们在-2，-1位置上扩展\n",
    "维度扩展：1维->2维，2维->3维，...，n维->n+1维\n",
    "维度降低：n维->n-1维，n-1维->n-2维，...，2维->1维\n",
    "\n",
    "以 1维->2维 为例，\n",
    "\n",
    "从【正向】的角度思考：\n",
    "\n",
    "torch.Size([4])\n",
    "最初的 tensor([1., 2., 3., 4.]) 是 1维，我们想让它扩展成 2维，那么，可以有两种扩展方式：\n",
    "\n",
    "一种是：扩展成 1行4列 ，即 tensor([[1., 2., 3., 4.]])\n",
    "针对第一种，扩展成 [1, 4]的形式，那么，在 dim=0 的位置上添加 1\n",
    "\n",
    "另一种是：扩展成 4行1列，即\n",
    "tensor([[1.],\n",
    "        [2.],\n",
    "        [3.],\n",
    "        [4.]])\n",
    "针对第二种，扩展成 [4, 1]的形式，那么，在dim=1的位置上添加 1\n",
    "\n",
    "从【逆向】的角度思考：\n",
    "原则：一般情况下， \"-1\" 是代表的是【最后一个元素】\n",
    "在上述的原则下，\n",
    "扩展成[1, 4]的形式，就变成了，在 dim=-2 的的位置上添加 1\n",
    "扩展成[4, 1]的形式，就变成了，在 dim=-1 的的位置上添加 1\n",
    "![示意图](https://pic1.zhimg.com/80/v2-c4e34129975b40e7ac9cacbb67c9c904_720w.jpg)"
   ]
  },
  {
   "cell_type": "markdown",
   "metadata": {},
   "source": [
    "# 1.`torch.unsqueeze`详解"
   ]
  },
  {
   "cell_type": "markdown",
   "metadata": {},
   "source": [
    "### torch.unsqueeze（）参数设0，行扩展"
   ]
  },
  {
   "cell_type": "code",
   "execution_count": 2,
   "metadata": {},
   "outputs": [
    {
     "name": "stdout",
     "output_type": "stream",
     "text": [
      "--------------------------------------------------\n",
      "tensor([[1., 2., 3., 4.]])\n",
      "torch.Size([1, 4])\n",
      "2\n",
      "[[1. 2. 3. 4.]]\n"
     ]
    }
   ],
   "source": [
    "print('-' * 50)\n",
    "print(torch.unsqueeze(x, 0))  # tensor([[1., 2., 3., 4.]])\n",
    "print(torch.unsqueeze(x, 0).size())  # torch.Size([1, 4])\n",
    "print(torch.unsqueeze(x, 0).dim())  # 2\n",
    "print(torch.unsqueeze(x, 0).numpy())  # [[1. 2. 3. 4.]]"
   ]
  },
  {
   "cell_type": "markdown",
   "metadata": {},
   "source": [
    "### torch.unsqueeze（）参数设1，列扩展"
   ]
  },
  {
   "cell_type": "code",
   "execution_count": 3,
   "metadata": {},
   "outputs": [
    {
     "name": "stdout",
     "output_type": "stream",
     "text": [
      "--------------------------------------------------\n",
      "tensor([[1.],\n",
      "        [2.],\n",
      "        [3.],\n",
      "        [4.]])\n",
      "torch.Size([4, 1])\n",
      "2\n"
     ]
    }
   ],
   "source": [
    "print('-' * 50)\n",
    "print(torch.unsqueeze(x, 1))\n",
    "print(torch.unsqueeze(x, 1).size())  # torch.Size([4, 1])\n",
    "print(torch.unsqueeze(x, 1).dim())  # 2"
   ]
  },
  {
   "cell_type": "markdown",
   "metadata": {},
   "source": [
    "### torch.unsqueeze（）参数设-1，列扩展"
   ]
  },
  {
   "cell_type": "code",
   "execution_count": 4,
   "metadata": {},
   "outputs": [
    {
     "name": "stdout",
     "output_type": "stream",
     "text": [
      "--------------------------------------------------\n",
      "tensor([[1.],\n",
      "        [2.],\n",
      "        [3.],\n",
      "        [4.]])\n",
      "torch.Size([4, 1])\n",
      "2\n"
     ]
    }
   ],
   "source": [
    "print('-' * 50)\n",
    "print(torch.unsqueeze(x, -1))\n",
    "print(torch.unsqueeze(x, -1).size())  # torch.Size([4, 1])\n",
    "print(torch.unsqueeze(x, -1).dim())  # 2"
   ]
  },
  {
   "cell_type": "markdown",
   "metadata": {},
   "source": [
    "### torch.unsqueeze（）参数设-2，行扩展"
   ]
  },
  {
   "cell_type": "code",
   "execution_count": 5,
   "metadata": {},
   "outputs": [
    {
     "name": "stdout",
     "output_type": "stream",
     "text": [
      "--------------------------------------------------\n",
      "tensor([[1., 2., 3., 4.]])\n",
      "torch.Size([1, 4])\n",
      "2\n"
     ]
    }
   ],
   "source": [
    "print('-' * 50)\n",
    "print(torch.unsqueeze(x, -2))  # tensor([[1., 2., 3., 4.]])\n",
    "print(torch.unsqueeze(x, -2).size())  # torch.Size([1, 4])\n",
    "print(torch.unsqueeze(x, -2).dim())  # 2"
   ]
  },
  {
   "cell_type": "code",
   "execution_count": 6,
   "metadata": {},
   "outputs": [],
   "source": [
    "# 边界测试\n",
    "# 说明：A dim value within the range [-input.dim() - 1, input.dim() + 1) （左闭右开）can be used.\n",
    "#print('-' * 50)\n",
    "#print(torch.unsqueeze(x, -3))\n",
    "#IndexError: Dimension out of range (expected to be in range of [-2, 1], but got -3)\n",
    "\n",
    "# print('-' * 50)\n",
    "# print(torch.unsqueeze(x, 2))\n",
    "# IndexError: Dimension out of range (expected to be in range of [-2, 1], but got 2)"
   ]
  },
  {
   "cell_type": "markdown",
   "metadata": {},
   "source": [
    "## 2.torch.squeeze详解\n",
    "**作用**：降维\n",
    "torch.squeeze(input, dim=None, out=None)\n",
    "\n",
    "将输入张量形状中的1 去除并返回。 如果输入是形如(A×1×B×1×C×1×D)，那么输出形状就为： (A×B×C×D)\n",
    "\n",
    "当给定dim时，那么挤压操作只在给定维度上。例如，输入形状为: (A×1×B), squeeze(input, 0) 将会保持张量不变，只有用 squeeze(input, 1)，形状会变成 (A×B)。\n",
    "\n",
    "注意： 返回张量与输入张量共享内存，所以改变其中一个的内容会改变另一个。  \n",
    "参数:  \n",
    "input (Tensor) – 输入张量  \n",
    "dim (int, optional) – 如果给定，则input只会在给定维度挤压  \n",
    "out (Tensor, optional) – 输出张量    \n",
    "Q：为何只去掉 1 呢？  \n",
    "A：多维张量本质上就是一个变换，如果维度是 1 ，那么，1 仅仅起到扩充维度的作用，而没有其他用途，因而，在进行降维操作时，为了加快计算，是可以去掉这些 1 的维度。"
   ]
  },
  {
   "cell_type": "code",
   "execution_count": 7,
   "metadata": {},
   "outputs": [
    {
     "name": "stdout",
     "output_type": "stream",
     "text": [
      "**************************************************\n",
      "torch.Size([2, 1, 2, 1, 2])\n"
     ]
    }
   ],
   "source": [
    "print(\"*\" * 50)\n",
    "\n",
    "m = torch.zeros(2, 1, 2, 1, 2)\n",
    "print(m.size())"
   ]
  },
  {
   "cell_type": "code",
   "execution_count": 8,
   "metadata": {},
   "outputs": [
    {
     "name": "stdout",
     "output_type": "stream",
     "text": [
      "tensor([[[0., 0.],\n",
      "         [0., 0.]],\n",
      "\n",
      "        [[0., 0.],\n",
      "         [0., 0.]]])\n",
      "torch.Size([2, 2, 2])\n"
     ]
    }
   ],
   "source": [
    "n = torch.squeeze(m)\n",
    "print(n)\n",
    "print(n.size())"
   ]
  },
  {
   "cell_type": "code",
   "execution_count": 9,
   "metadata": {},
   "outputs": [
    {
     "name": "stdout",
     "output_type": "stream",
     "text": [
      "tensor([[[[[0., 0.]],\n",
      "\n",
      "          [[0., 0.]]]],\n",
      "\n",
      "\n",
      "\n",
      "        [[[[0., 0.]],\n",
      "\n",
      "          [[0., 0.]]]]])\n",
      "torch.Size([2, 1, 2, 1, 2])\n"
     ]
    }
   ],
   "source": [
    "n = torch.squeeze(m, 0)  # 当给定dim时，那么挤压操作只在给定维度上\n",
    "print(n)\n",
    "print(n.size())"
   ]
  },
  {
   "cell_type": "code",
   "execution_count": 10,
   "metadata": {},
   "outputs": [
    {
     "name": "stdout",
     "output_type": "stream",
     "text": [
      "torch.Size([2, 2, 1, 2])\n"
     ]
    }
   ],
   "source": [
    "n = torch.squeeze(m, 1)\n",
    "print(n.size())"
   ]
  },
  {
   "cell_type": "code",
   "execution_count": 11,
   "metadata": {},
   "outputs": [
    {
     "name": "stdout",
     "output_type": "stream",
     "text": [
      "torch.Size([2, 1, 2, 1, 2])\n"
     ]
    }
   ],
   "source": [
    "n = torch.squeeze(m, 2)\n",
    "print(n.size())"
   ]
  },
  {
   "cell_type": "code",
   "execution_count": 12,
   "metadata": {},
   "outputs": [
    {
     "name": "stdout",
     "output_type": "stream",
     "text": [
      "torch.Size([2, 1, 2, 2])\n"
     ]
    }
   ],
   "source": [
    "n = torch.squeeze(m, 3)\n",
    "print(n.size())  # torch.Size([2, 1, 2, 2])"
   ]
  },
  {
   "cell_type": "code",
   "execution_count": 13,
   "metadata": {},
   "outputs": [
    {
     "name": "stdout",
     "output_type": "stream",
     "text": [
      "@@@@@@@@@@@@@@@@@@@@@@@@@@@@@@@@@@@@@@@@@@@@@@@@@@\n",
      "tensor([[[0.]],\n",
      "\n",
      "        [[0.]]])\n",
      "[[[0.]]\n",
      "\n",
      " [[0.]]]\n",
      "torch.Size([2, 1, 1])\n"
     ]
    }
   ],
   "source": [
    "print(\"@\" * 50)\n",
    "p = torch.zeros(2, 1, 1)\n",
    "print(p)\n",
    "print(p.numpy())\n",
    "print(p.size())"
   ]
  },
  {
   "cell_type": "code",
   "execution_count": 14,
   "metadata": {},
   "outputs": [
    {
     "name": "stdout",
     "output_type": "stream",
     "text": [
      "tensor([0., 0.])\n",
      "[0. 0.]\n",
      "torch.Size([2])\n",
      "[[0. 0.]\n",
      " [0. 0.]\n",
      " [0. 0.]]\n"
     ]
    }
   ],
   "source": [
    "q = torch.squeeze(p)\n",
    "print(q)\n",
    "print(q.numpy())\n",
    "print(q.size())\n",
    "print(torch.zeros(3, 2).numpy())"
   ]
  },
  {
   "cell_type": "code",
   "execution_count": null,
   "metadata": {},
   "outputs": [],
   "source": []
  }
 ],
 "metadata": {
  "kernelspec": {
   "display_name": "Python 3",
   "language": "python",
   "name": "python3"
  },
  "language_info": {
   "codemirror_mode": {
    "name": "ipython",
    "version": 3
   },
   "file_extension": ".py",
   "mimetype": "text/x-python",
   "name": "python",
   "nbconvert_exporter": "python",
   "pygments_lexer": "ipython3",
   "version": "3.7.4"
  }
 },
 "nbformat": 4,
 "nbformat_minor": 2
}
